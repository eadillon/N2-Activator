{
 "cells": [
  {
   "cell_type": "code",
   "execution_count": null,
   "metadata": {},
   "outputs": [],
   "source": [
    "## grid search with GUI ##\n",
    "\n",
    "import sys\n",
    "from PyQt6.QtWidgets import QApplication\n",
    "from GUI.gridsearchGUI import GridSearchGUI\n",
    "\n",
    "# Example usage\n",
    "if __name__ == \"__main__\":\n",
    "    app = QApplication(sys.argv)\n",
    "    gui = GridSearchGUI()\n",
    "    gui.show()\n",
    "\n",
    "    # Load data\n",
    "    import os\n",
    "    from rewrap_adjlen2 import rewrap\n",
    "    atoms = 50  # number of atoms in input\n",
    "    size = atoms * 4\n",
    "    trd = rewrap('/Users/enricadillon/Python/data/terminal_zax_csv', size)\n",
    "    ted = rewrap('/Users/enricadillon/Python/data/terminal_zax_testdata', size)\n",
    "    os.chdir('/Users/enricadillon/Python/N2predicter')\n",
    "    from periodic_coordinates_EN import AN_to_PC\n",
    "    training_data = AN_to_PC(trd)\n",
    "    test_data = AN_to_PC(ted)\n",
    "\n",
    "    # Define the parameter grid\n",
    "    param_grid = {\n",
    "        'inputs': [30, 40, 60],\n",
    "        'layer1': [50],\n",
    "        'layer2': [50],\n",
    "        'layer3': [50],\n",
    "        'eta': [0.05, 0.01],\n",
    "        'lmbda': [1, 0.5, 0.2],\n",
    "        'lr_decay': [0.99, 0.98]\n",
    "    }\n",
    "\n",
    "    # Start grid search in a separate thread\n",
    "    gui.start_grid_search(training_data, test_data, param_grid, epochs=200, mini_batch_size=200)\n",
    "\n",
    "    sys.exit(app.exec())"
   ]
  },
  {
   "cell_type": "code",
   "execution_count": 1,
   "metadata": {},
   "outputs": [
    {
     "name": "stdout",
     "output_type": "stream",
     "text": [
      "For the given search parameters, the approximate runtime is 0 days, 0 hours, 6 minutes, and 37 seconds\n"
     ]
    },
    {
     "ename": "SystemExit",
     "evalue": "0",
     "output_type": "error",
     "traceback": [
      "An exception has occurred, use %tb to see the full traceback.\n",
      "\u001b[0;31mSystemExit\u001b[0m\u001b[0;31m:\u001b[0m 0\n"
     ]
    },
    {
     "name": "stderr",
     "output_type": "stream",
     "text": [
      "/Users/enricadillon/Python/N2predicter/.venv/lib/python3.9/site-packages/IPython/core/interactiveshell.py:3558: UserWarning: To exit: use 'exit', 'quit', or Ctrl-D.\n",
      "  warn(\"To exit: use 'exit', 'quit', or Ctrl-D.\", stacklevel=1)\n"
     ]
    },
    {
     "ename": "",
     "evalue": "",
     "output_type": "error",
     "traceback": [
      "\u001b[1;31mThe Kernel crashed while executing code in the current cell or a previous cell. \n",
      "\u001b[1;31mPlease review the code in the cell(s) to identify a possible cause of the failure. \n",
      "\u001b[1;31mClick <a href='https://aka.ms/vscodeJupyterKernelCrash'>here</a> for more info. \n",
      "\u001b[1;31mView Jupyter <a href='command:jupyter.viewOutput'>log</a> for further details."
     ]
    }
   ],
   "source": [
    "## grid search with GUI and save function ##\n",
    "\n",
    "import sys\n",
    "from PyQt6.QtWidgets import QApplication\n",
    "from GUI.gridsearchGUI2 import GridSearchGUI\n",
    "\n",
    "# Example usage\n",
    "if __name__ == \"__main__\":\n",
    "    app = QApplication(sys.argv)\n",
    "    gui = GridSearchGUI()\n",
    "    gui.show()\n",
    "\n",
    "    # Load data\n",
    "    import os\n",
    "    from rewrap_adjlen2 import rewrap\n",
    "    atoms = 50  # number of atoms in input\n",
    "    size = atoms * 4\n",
    "    trd = rewrap('/Users/enricadillon/Python/data/terminal_zax_csv', size)\n",
    "    ted = rewrap('/Users/enricadillon/Python/data/terminal_zax_testdata', size)\n",
    "    os.chdir('/Users/enricadillon/Python/N2predicter')\n",
    "    from periodic_coordinates_EN import AN_to_PC\n",
    "    training_data = AN_to_PC(trd)\n",
    "    test_data = AN_to_PC(ted)\n",
    "\n",
    "    # Define the parameter grid\n",
    "    param_grid = {\n",
    "        'inputs': [4, 8, 12, 16, 20, 24, 28, 32, 36, 40, 44, 48, 52, 56, 60],\n",
    "        'layer1': [50],\n",
    "        'layer2': [50],\n",
    "        'layer3': [50],\n",
    "        'eta': [0.01],\n",
    "        'lmbda': [1],\n",
    "        'lr_decay': [0.99]\n",
    "    }\n",
    "\n",
    "    # Start grid search in a separate thread\n",
    "    gui.start_grid_search(training_data, test_data, param_grid, epochs=500, mini_batch_size=200)\n",
    "\n",
    "    sys.exit(app.exec())"
   ]
  },
  {
   "cell_type": "code",
   "execution_count": null,
   "metadata": {},
   "outputs": [],
   "source": [
    "## grid search with print out ##\n",
    "\n",
    "# load data\n",
    "import os\n",
    "from rewrap_adjlen2 import rewrap\n",
    "atoms = 50 # number of atoms in input\n",
    "size = atoms*4\n",
    "trd = rewrap('/Users/enricadillon/Python/data/terminal_zax_csv',size)\n",
    "ted = rewrap('/Users/enricadillon/Python/data/terminal_zax_testdata',size)\n",
    "#validation_data = vector('/Users/enricadillon/Python/data/search4_validationdata')\n",
    "#convert atomic number to periodic coordinates\n",
    "os.chdir('/Users/enricadillon/Python/N2predicter') \n",
    "from periodic_coordinates_EN import AN_to_PC\n",
    "training_data = AN_to_PC(trd)\n",
    "test_data = AN_to_PC(ted)\n",
    "\n",
    "# Define the parameter grid\n",
    "param_grid = {\n",
    "    'inputs': [40,60,80,100],\n",
    "    'layer1': [100,75,50,25],\n",
    "    'layer2': [100,75,50,25],\n",
    "    'layer3': [100, 75, 50, 25],\n",
    "    'eta': [0.05, 0.01],\n",
    "    'lmbda': [1, 0.5, 0.2],\n",
    "    'lr_decay': [0.99]\n",
    "}\n",
    "\n",
    "# Perform grid search\n",
    "from scooby4 import grid_search\n",
    "best_params, best_accuracy, results = grid_search(training_data, test_data, param_grid,mini_batch_size=300)"
   ]
  },
  {
   "cell_type": "code",
   "execution_count": null,
   "metadata": {},
   "outputs": [],
   "source": [
    "best_params"
   ]
  },
  {
   "cell_type": "code",
   "execution_count": null,
   "metadata": {},
   "outputs": [],
   "source": [
    "param_grid = {\n",
    "    'inputs': [40,60,80,100],\n",
    "    'layer1': [100,75,50,25],\n",
    "    'layer2': [100,75,50,25],\n",
    "    'layer3': [100, 75, 50, 25],\n",
    "    'eta': [0.05, 0.01],\n",
    "    'lmbda': [1, 0.5, 0.2],\n",
    "    'lr_decay': [0.99]\n",
    "}"
   ]
  },
  {
   "cell_type": "code",
   "execution_count": null,
   "metadata": {},
   "outputs": [],
   "source": [
    "# Save results to a file\n",
    "import json\n",
    "with open('grid_search_results.json', 'w') as f:\n",
    "    json.dump(results, f)"
   ]
  }
 ],
 "metadata": {
  "kernelspec": {
   "display_name": ".venv",
   "language": "python",
   "name": "python3"
  },
  "language_info": {
   "codemirror_mode": {
    "name": "ipython",
    "version": 3
   },
   "file_extension": ".py",
   "mimetype": "text/x-python",
   "name": "python",
   "nbconvert_exporter": "python",
   "pygments_lexer": "ipython3",
   "version": "3.9.6"
  }
 },
 "nbformat": 4,
 "nbformat_minor": 2
}
